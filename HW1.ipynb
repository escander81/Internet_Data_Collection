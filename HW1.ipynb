{
 "cells": [
  {
   "cell_type": "markdown",
   "metadata": {},
   "source": [
    "# Tarasov Alexander"
   ]
  },
  {
   "cell_type": "markdown",
   "metadata": {},
   "source": [
    "## Задача1"
   ]
  },
  {
   "cell_type": "markdown",
   "metadata": {},
   "source": [
    "* Посмотреть документацию к API GitHub\n",
    "* разобраться как вывести список репозиториев для конкретного пользователя\n",
    "* сохранить JSON-вывод в файле *.json."
   ]
  },
  {
   "cell_type": "code",
   "execution_count": 11,
   "metadata": {},
   "outputs": [],
   "source": [
    "import requests\n",
    "import json"
   ]
  },
  {
   "cell_type": "code",
   "execution_count": 12,
   "metadata": {},
   "outputs": [],
   "source": [
    "# user = 'escander81'"
   ]
  },
  {
   "cell_type": "code",
   "execution_count": 14,
   "metadata": {},
   "outputs": [
    {
     "name": "stdout",
     "output_type": "stream",
     "text": [
      "Enter the github username:escander81\n"
     ]
    }
   ],
   "source": [
    "user = input(\"Enter the github username:\")"
   ]
  },
  {
   "cell_type": "code",
   "execution_count": 15,
   "metadata": {},
   "outputs": [],
   "source": [
    "url = f'https://api.github.com/users/{user}/repos'"
   ]
  },
  {
   "cell_type": "code",
   "execution_count": 16,
   "metadata": {},
   "outputs": [],
   "source": [
    "response = requests.get(url)\n",
    "data_json = response.json()"
   ]
  },
  {
   "cell_type": "code",
   "execution_count": 17,
   "metadata": {},
   "outputs": [
    {
     "name": "stdout",
     "output_type": "stream",
     "text": [
      "0) Linux_basic\n",
      "1) MySQL\n",
      "2) python\n",
      "3) Python_basic\n",
      "4) Python_Data_Science\n"
     ]
    }
   ],
   "source": [
    "for rep in data_json:\n",
    "    if not rep['private']:\n",
    "        print(f'{data_json.index(rep)}{\")\"} {rep[\"name\"]}')"
   ]
  },
  {
   "cell_type": "code",
   "execution_count": 18,
   "metadata": {},
   "outputs": [
    {
     "name": "stdout",
     "output_type": "stream",
     "text": [
      "Completed\n"
     ]
    }
   ],
   "source": [
    "try:\n",
    "    with open('GIT_repos.json', 'w') as f:\n",
    "      json.dump(data_json, f, ensure_ascii=False, indent=4)\n",
    "    print(\"Completed\")\n",
    "except:\n",
    "    print(\"Failed\")"
   ]
  },
  {
   "cell_type": "markdown",
   "metadata": {},
   "source": []
  },
  {
   "cell_type": "markdown",
   "metadata": {},
   "source": [
    "## Задача2"
   ]
  },
  {
   "cell_type": "markdown",
   "metadata": {},
   "source": [
    "* Изучить список открытых API (https://www.programmableweb.com/category/all/apis). \n",
    "* Найти среди них любое, требующее авторизацию (любого типа). \n",
    "* Выполнить запросы к нему, пройдя авторизацию. \n",
    "* Ответ сервера записать в файл."
   ]
  },
  {
   "cell_type": "code",
   "execution_count": 19,
   "metadata": {},
   "outputs": [],
   "source": [
    "import requests\n",
    "import json\n",
    "from pprint import pprint"
   ]
  },
  {
   "cell_type": "code",
   "execution_count": 20,
   "metadata": {},
   "outputs": [],
   "source": [
    "# API получен после регистрации на сайте https://app.travelpayouts.com/programs/100/tools/api\n",
    "api_key = 'TOKEN'"
   ]
  },
  {
   "cell_type": "code",
   "execution_count": 21,
   "metadata": {},
   "outputs": [],
   "source": [
    "departure = 'MOW'\n",
    "destination = 'DXB'\n",
    "currency = 'usd'\n",
    "departure_at = '2022-03-01'\n",
    "return_at = '2022-03-10'\n",
    "sorting = 'price'\n",
    "direct = 'true'\n",
    "limit = '10'"
   ]
  },
  {
   "cell_type": "code",
   "execution_count": 22,
   "metadata": {},
   "outputs": [],
   "source": [
    "url = f\"https://api.travelpayouts.com/aviasales/v3/prices_for_dates\""
   ]
  },
  {
   "cell_type": "code",
   "execution_count": 23,
   "metadata": {},
   "outputs": [],
   "source": [
    "params = {'origin': departure,\n",
    "          'destination': destination,\n",
    "          'currency': currency,\n",
    "          'departure_at': departure_at,\n",
    "          'return_at': return_at,\n",
    "          'sorting': sorting,\n",
    "          'direct': direct,\n",
    "          'limit': limit,\n",
    "          'token': api_key}"
   ]
  },
  {
   "cell_type": "code",
   "execution_count": 24,
   "metadata": {},
   "outputs": [],
   "source": [
    "response = requests.get(url, params=params)\n",
    "j_data = response.json()"
   ]
  },
  {
   "cell_type": "code",
   "execution_count": 25,
   "metadata": {},
   "outputs": [
    {
     "name": "stdout",
     "output_type": "stream",
     "text": [
      "{'currency': 'usd',\n",
      " 'data': [{'airline': 'DP',\n",
      "           'departure_at': '2022-03-01T09:30:00+03:00',\n",
      "           'destination': 'DXB',\n",
      "           'destination_airport': 'DXB',\n",
      "           'duration': 670,\n",
      "           'flight_number': '951',\n",
      "           'link': '/search/MOW0103DXB10031?t=DP16461162001646135700000325VKODXB16469127001646933400000345DXBVKO_6b7188812abd43dd7eb29129118eba47_19403&search_date=14112021&expected_price_uuid=0dcc754c-71cc-4b1a-b8e5-49af1b1df5b9&expected_price_currency=rub',\n",
      "           'origin': 'MOW',\n",
      "           'origin_airport': 'VKO',\n",
      "           'price': 266,\n",
      "           'return_at': '2022-03-10T15:45:00+04:00',\n",
      "           'return_transfers': 0,\n",
      "           'transfers': 0},\n",
      "          {'airline': 'FZ',\n",
      "           'departure_at': '2022-03-01T15:40:00+03:00',\n",
      "           'destination': 'DXB',\n",
      "           'destination_airport': 'DXB',\n",
      "           'duration': 665,\n",
      "           'flight_number': '1912',\n",
      "           'link': '/search/MOW0103DXB10031?t=FZ16461384001646157900000325VKODXB16469268001646947200000340DXBVKO_6720da8465cd1d635f453d97fc4267c3_30250&search_date=14112021&expected_price_uuid=0dcc754c-71cc-4b1a-b8e5-49af1b1df5b9&expected_price_currency=rub',\n",
      "           'origin': 'MOW',\n",
      "           'origin_airport': 'VKO',\n",
      "           'price': 415,\n",
      "           'return_at': '2022-03-10T19:40:00+04:00',\n",
      "           'return_transfers': 0,\n",
      "           'transfers': 0},\n",
      "          {'airline': 'SU',\n",
      "           'departure_at': '2022-03-01T00:45:00+03:00',\n",
      "           'destination': 'DXB',\n",
      "           'destination_airport': 'DXB',\n",
      "           'duration': 690,\n",
      "           'flight_number': '522',\n",
      "           'link': '/search/MOW0103DXB10031?t=SU16460847001646105100000340SVODXB16468881001646909100000350DXBSVO_a1d8f1c010ebde534a0ce195582a967c_36616&search_date=14112021&expected_price_uuid=0dcc754c-71cc-4b1a-b8e5-49af1b1df5b9&expected_price_currency=rub',\n",
      "           'origin': 'MOW',\n",
      "           'origin_airport': 'SVO',\n",
      "           'price': 502,\n",
      "           'return_at': '2022-03-10T08:55:00+04:00',\n",
      "           'return_transfers': 0,\n",
      "           'transfers': 0},\n",
      "          {'airline': 'EK',\n",
      "           'departure_at': '2022-03-01T17:00:00+03:00',\n",
      "           'destination': 'DXB',\n",
      "           'destination_airport': 'DXB',\n",
      "           'duration': 645,\n",
      "           'flight_number': '134',\n",
      "           'link': '/search/MOW0103DXB10031?t=EK16461432001646162100000315DMEDXB16468893001646909100000330DXBDME_2a67b258688677ea528d8de4da0f196d_37468&search_date=14112021&expected_price_uuid=0dcc754c-71cc-4b1a-b8e5-49af1b1df5b9&expected_price_currency=rub',\n",
      "           'origin': 'MOW',\n",
      "           'origin_airport': 'DME',\n",
      "           'price': 514,\n",
      "           'return_at': '2022-03-10T09:15:00+04:00',\n",
      "           'return_transfers': 0,\n",
      "           'transfers': 0}],\n",
      " 'success': True}\n"
     ]
    }
   ],
   "source": [
    "pprint(j_data)"
   ]
  },
  {
   "cell_type": "code",
   "execution_count": 26,
   "metadata": {},
   "outputs": [
    {
     "name": "stdout",
     "output_type": "stream",
     "text": [
      "File saved\n"
     ]
    }
   ],
   "source": [
    "try:\n",
    "    with open('Aviasales.json', 'w') as f:\n",
    "      json.dump(j_data, f, ensure_ascii=False, indent=4)\n",
    "    print(\"File saved\")\n",
    "except:\n",
    "    print(\"File Failed\")"
   ]
  },
  {
   "cell_type": "code",
   "execution_count": null,
   "metadata": {},
   "outputs": [],
   "source": []
  }
 ],
 "metadata": {
  "kernelspec": {
   "display_name": "Python 3",
   "language": "python",
   "name": "python3"
  },
  "language_info": {
   "codemirror_mode": {
    "name": "ipython",
    "version": 3
   },
   "file_extension": ".py",
   "mimetype": "text/x-python",
   "name": "python",
   "nbconvert_exporter": "python",
   "pygments_lexer": "ipython3",
   "version": "3.8.5"
  }
 },
 "nbformat": 4,
 "nbformat_minor": 4
}
